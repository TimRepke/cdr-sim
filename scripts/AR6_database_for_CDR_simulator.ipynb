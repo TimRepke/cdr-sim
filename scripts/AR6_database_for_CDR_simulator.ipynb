{
 "cells": [
  {
   "cell_type": "markdown",
   "source": [
    "# AR6 Scenario database\n",
    "\n",
    "1. Download `AR6_Scenarios_Database_World_v1.1` from https://data.ece.iiasa.ac.at/ar6/#/downloads into `../data/`\n",
    "2. Unzip the file\n",
    "3. Install [pyam](https://pyam-iamc.readthedocs.io/en/stable/)"
   ],
   "metadata": {
    "collapsed": false
   }
  },
  {
   "cell_type": "code",
   "execution_count": null,
   "id": "c6a28cd5",
   "metadata": {},
   "outputs": [],
   "source": [
    "import pandas as pd\n",
    "import pyam"
   ]
  },
  {
   "cell_type": "code",
   "execution_count": null,
   "id": "e251b74e",
   "metadata": {},
   "outputs": [],
   "source": [
    "meta_df = pd.read_excel('../data/AR6_Scenarios_Database_metadata_indicators_v1.1.xlsx', sheet_name='meta', index_col=[0, 1])\n",
    "meta_df.index.names = ['model', 'scenario']\n",
    "scen_df = pyam.IamDataFrame(data='../data/AR6_Scenarios_Database_World_v1.1.csv', meta=meta_df)"
   ]
  },
  {
   "cell_type": "code",
   "execution_count": 68,
   "outputs": [
    {
     "name": "stdout",
     "output_type": "stream",
     "text": [
      "This scenario has 659 variables\n"
     ]
    }
   ],
   "source": [
    "# These are the five Illustrative Mitigation Pathway (IMP) [2] that are used in Chapter 3.\n",
    "# See Section 3.2.5 (page 15 / 309) of the summary [1], Table 3.1 on page 13 (307) has a quick summary of the categories.\n",
    "# [1] https://www.ipcc.ch/report/ar6/wg3/downloads/report/IPCC_AR6_WGIII_Chapter03.pdf\n",
    "# [2] https://www.ipcc.ch/report/ar6/wg3/downloads/report/IPCC_AR6_WGIII_Annex-III.pdf Table 10 (page 39 /1879 )\n",
    "\n",
    "MODEL, SCENARIO = [\n",
    "    # Placing greater emphasis on deployment of carbon dioxide removal that results in net negative global GHG emissions (IMP-Neg)\n",
    "    ('COFFEE 1.1', 'EN_NPi2020_400f_lowBECCS'),  # C2\n",
    "    # Placing greater emphasis on renewables (IMP-Ren)\n",
    "    ('REMIND-MAgPIE 2.1-4.3', 'DeepElec_SSP2_ HighRE_Budg900'),  # C1\n",
    "    # Efficient resource use and shifts in consumption patterns, leading to low demand for resources, while ensuring a high level of services (IMP-LD)\n",
    "    ('MESSAGEix-GLOBIOM 1.0', 'LowEnergyDemand_1.3_IPCC'),  # C1\n",
    "    # Less rapid introduction of mitigation measures followed by a subsequent gradual strengthening (IMP-GS)\n",
    "    ('WITCH 5.0', 'CO_Bridge'),  # C3\n",
    "    # Shifting global pathways towards sustainable development, including by reducing inequality, can lead to mitigation (IMP-SP)\n",
    "    ('REMIND-MAgPIE 2.1-4.2', 'SusDev_SDP-PkBudg1000'),  # C1\n",
    "][1]\n",
    "\n",
    "model_data = scen_df.filter(model=MODEL, scenario=SCENARIO)\n",
    "print(f'This scenario has {len(model_data.variable)} variables')"
   ],
   "metadata": {
    "collapsed": false,
    "ExecuteTime": {
     "end_time": "2023-05-30T17:35:03.051500508Z",
     "start_time": "2023-05-30T17:35:02.942399668Z"
    }
   }
  },
  {
   "cell_type": "code",
   "execution_count": null,
   "id": "d6d78898",
   "metadata": {},
   "outputs": [],
   "source": [
    "# If you restart the notebook often, it's faster to pickle the dataframe and load that\n",
    "\n",
    "# save\n",
    "#with open(pickle_file, 'wb') as f:\n",
    "#    pickle.dump(scen_df, f)\n",
    "# load\n",
    "#with open(pickle_file, 'rb') as f:\n",
    "#    scen_df = pickle.load(f)"
   ]
  },
  {
   "cell_type": "code",
   "execution_count": 69,
   "id": "23f49a9a",
   "metadata": {
    "ExecuteTime": {
     "end_time": "2023-05-30T17:35:07.448966318Z",
     "start_time": "2023-05-30T17:35:07.386439222Z"
    }
   },
   "outputs": [
    {
     "data": {
      "text/plain": "Category\nfailed-vetting           587\nno-climate-assessment    509\nC3                       311\nC5                       212\nC7                       164\nC4                       159\nC2                       133\nC6                        97\nC1                        97\nC8                        29\nName: count, dtype: int64"
     },
     "execution_count": 69,
     "metadata": {},
     "output_type": "execute_result"
    }
   ],
   "source": [
    "scen_df.meta['Category'].value_counts()"
   ]
  },
  {
   "cell_type": "code",
   "execution_count": 70,
   "outputs": [
    {
     "data": {
      "text/plain": "'Mt CO2/yr'"
     },
     "execution_count": 70,
     "metadata": {},
     "output_type": "execute_result"
    }
   ],
   "source": [
    "# Looking up units of measurement\n",
    "model_data.unit_mapping['Carbon Sequestration|CCS|Biomass|Energy|Supply|Electricity']"
   ],
   "metadata": {
    "collapsed": false,
    "ExecuteTime": {
     "end_time": "2023-05-30T17:35:11.898350053Z",
     "start_time": "2023-05-30T17:35:11.797559495Z"
    }
   }
  },
  {
   "cell_type": "code",
   "execution_count": null,
   "id": "dc26684c",
   "metadata": {
    "collapsed": true
   },
   "outputs": [],
   "source": [
    "# List of all variables in this scenario\n",
    "model_data.variable"
   ]
  },
  {
   "cell_type": "code",
   "execution_count": null,
   "outputs": [],
   "source": [
    "# \"Search\" for variables\n",
    "[v for v in model_data.variable if 'biochar' in v.lower()]"
   ],
   "metadata": {
    "collapsed": false
   }
  },
  {
   "cell_type": "code",
   "execution_count": 72,
   "id": "aa6959f8",
   "metadata": {
    "ExecuteTime": {
     "end_time": "2023-05-30T17:35:33.799990892Z",
     "start_time": "2023-05-30T17:35:33.762048155Z"
    }
   },
   "outputs": [
    {
     "data": {
      "text/plain": "                                                                                                 2005  \\\nmodel                 scenario                      region variable             unit                    \nREMIND-MAgPIE 2.1-4.3 DeepElec_SSP2_ HighRE_Budg900 World  Emissions|CO2|AFOLU  Mt CO2/yr   3650.3866   \n                                                           Emissions|CO2|Energy Mt CO2/yr  28709.0214   \n\n                                                                                                 2010  \\\nmodel                 scenario                      region variable             unit                    \nREMIND-MAgPIE 2.1-4.3 DeepElec_SSP2_ HighRE_Budg900 World  Emissions|CO2|AFOLU  Mt CO2/yr   4219.1677   \n                                                           Emissions|CO2|Energy Mt CO2/yr  32308.0912   \n\n                                                                                                 2015  \\\nmodel                 scenario                      region variable             unit                    \nREMIND-MAgPIE 2.1-4.3 DeepElec_SSP2_ HighRE_Budg900 World  Emissions|CO2|AFOLU  Mt CO2/yr   4373.5944   \n                                                           Emissions|CO2|Energy Mt CO2/yr  34801.6918   \n\n                                                                                                 2020  \\\nmodel                 scenario                      region variable             unit                    \nREMIND-MAgPIE 2.1-4.3 DeepElec_SSP2_ HighRE_Budg900 World  Emissions|CO2|AFOLU  Mt CO2/yr   4270.8635   \n                                                           Emissions|CO2|Energy Mt CO2/yr  37468.8134   \n\n                                                                                                 2025  \\\nmodel                 scenario                      region variable             unit                    \nREMIND-MAgPIE 2.1-4.3 DeepElec_SSP2_ HighRE_Budg900 World  Emissions|CO2|AFOLU  Mt CO2/yr   1611.5775   \n                                                           Emissions|CO2|Energy Mt CO2/yr  29142.2139   \n\n                                                                                                 2030  \\\nmodel                 scenario                      region variable             unit                    \nREMIND-MAgPIE 2.1-4.3 DeepElec_SSP2_ HighRE_Budg900 World  Emissions|CO2|AFOLU  Mt CO2/yr    453.5651   \n                                                           Emissions|CO2|Energy Mt CO2/yr  18864.8132   \n\n                                                                                                 2035  \\\nmodel                 scenario                      region variable             unit                    \nREMIND-MAgPIE 2.1-4.3 DeepElec_SSP2_ HighRE_Budg900 World  Emissions|CO2|AFOLU  Mt CO2/yr     25.6224   \n                                                           Emissions|CO2|Energy Mt CO2/yr  12751.5103   \n\n                                                                                                2040  \\\nmodel                 scenario                      region variable             unit                   \nREMIND-MAgPIE 2.1-4.3 DeepElec_SSP2_ HighRE_Budg900 World  Emissions|CO2|AFOLU  Mt CO2/yr    61.8666   \n                                                           Emissions|CO2|Energy Mt CO2/yr  7942.9095   \n\n                                                                                                2045  \\\nmodel                 scenario                      region variable             unit                   \nREMIND-MAgPIE 2.1-4.3 DeepElec_SSP2_ HighRE_Budg900 World  Emissions|CO2|AFOLU  Mt CO2/yr   131.9794   \n                                                           Emissions|CO2|Energy Mt CO2/yr  3968.1899   \n\n                                                                                                2050  \\\nmodel                 scenario                      region variable             unit                   \nREMIND-MAgPIE 2.1-4.3 DeepElec_SSP2_ HighRE_Budg900 World  Emissions|CO2|AFOLU  Mt CO2/yr    77.0582   \n                                                           Emissions|CO2|Energy Mt CO2/yr  1894.4285   \n\n                                                                                               2055  \\\nmodel                 scenario                      region variable             unit                  \nREMIND-MAgPIE 2.1-4.3 DeepElec_SSP2_ HighRE_Budg900 World  Emissions|CO2|AFOLU  Mt CO2/yr  -92.3631   \n                                                           Emissions|CO2|Energy Mt CO2/yr  709.2676   \n\n                                                                                               2060  \\\nmodel                 scenario                      region variable             unit                  \nREMIND-MAgPIE 2.1-4.3 DeepElec_SSP2_ HighRE_Budg900 World  Emissions|CO2|AFOLU  Mt CO2/yr -313.3525   \n                                                           Emissions|CO2|Energy Mt CO2/yr  -73.8608   \n\n                                                                                               2070  \\\nmodel                 scenario                      region variable             unit                  \nREMIND-MAgPIE 2.1-4.3 DeepElec_SSP2_ HighRE_Budg900 World  Emissions|CO2|AFOLU  Mt CO2/yr -524.3985   \n                                                           Emissions|CO2|Energy Mt CO2/yr -732.5640   \n\n                                                                                               2080  \\\nmodel                 scenario                      region variable             unit                  \nREMIND-MAgPIE 2.1-4.3 DeepElec_SSP2_ HighRE_Budg900 World  Emissions|CO2|AFOLU  Mt CO2/yr -676.3098   \n                                                           Emissions|CO2|Energy Mt CO2/yr -870.1384   \n\n                                                                                               2090  \\\nmodel                 scenario                      region variable             unit                  \nREMIND-MAgPIE 2.1-4.3 DeepElec_SSP2_ HighRE_Budg900 World  Emissions|CO2|AFOLU  Mt CO2/yr -727.9576   \n                                                           Emissions|CO2|Energy Mt CO2/yr -918.7590   \n\n                                                                                               2100  \nmodel                 scenario                      region variable             unit                 \nREMIND-MAgPIE 2.1-4.3 DeepElec_SSP2_ HighRE_Budg900 World  Emissions|CO2|AFOLU  Mt CO2/yr -686.0372  \n                                                           Emissions|CO2|Energy Mt CO2/yr -863.3173  ",
      "text/html": "<div>\n<style scoped>\n    .dataframe tbody tr th:only-of-type {\n        vertical-align: middle;\n    }\n\n    .dataframe tbody tr th {\n        vertical-align: top;\n    }\n\n    .dataframe thead th {\n        text-align: right;\n    }\n</style>\n<table border=\"1\" class=\"dataframe\">\n  <thead>\n    <tr style=\"text-align: right;\">\n      <th></th>\n      <th></th>\n      <th></th>\n      <th></th>\n      <th></th>\n      <th>2005</th>\n      <th>2010</th>\n      <th>2015</th>\n      <th>2020</th>\n      <th>2025</th>\n      <th>2030</th>\n      <th>2035</th>\n      <th>2040</th>\n      <th>2045</th>\n      <th>2050</th>\n      <th>2055</th>\n      <th>2060</th>\n      <th>2070</th>\n      <th>2080</th>\n      <th>2090</th>\n      <th>2100</th>\n    </tr>\n    <tr>\n      <th>model</th>\n      <th>scenario</th>\n      <th>region</th>\n      <th>variable</th>\n      <th>unit</th>\n      <th></th>\n      <th></th>\n      <th></th>\n      <th></th>\n      <th></th>\n      <th></th>\n      <th></th>\n      <th></th>\n      <th></th>\n      <th></th>\n      <th></th>\n      <th></th>\n      <th></th>\n      <th></th>\n      <th></th>\n      <th></th>\n    </tr>\n  </thead>\n  <tbody>\n    <tr>\n      <th rowspan=\"2\" valign=\"top\">REMIND-MAgPIE 2.1-4.3</th>\n      <th rowspan=\"2\" valign=\"top\">DeepElec_SSP2_ HighRE_Budg900</th>\n      <th rowspan=\"2\" valign=\"top\">World</th>\n      <th>Emissions|CO2|AFOLU</th>\n      <th>Mt CO2/yr</th>\n      <td>3650.3866</td>\n      <td>4219.1677</td>\n      <td>4373.5944</td>\n      <td>4270.8635</td>\n      <td>1611.5775</td>\n      <td>453.5651</td>\n      <td>25.6224</td>\n      <td>61.8666</td>\n      <td>131.9794</td>\n      <td>77.0582</td>\n      <td>-92.3631</td>\n      <td>-313.3525</td>\n      <td>-524.3985</td>\n      <td>-676.3098</td>\n      <td>-727.9576</td>\n      <td>-686.0372</td>\n    </tr>\n    <tr>\n      <th>Emissions|CO2|Energy</th>\n      <th>Mt CO2/yr</th>\n      <td>28709.0214</td>\n      <td>32308.0912</td>\n      <td>34801.6918</td>\n      <td>37468.8134</td>\n      <td>29142.2139</td>\n      <td>18864.8132</td>\n      <td>12751.5103</td>\n      <td>7942.9095</td>\n      <td>3968.1899</td>\n      <td>1894.4285</td>\n      <td>709.2676</td>\n      <td>-73.8608</td>\n      <td>-732.5640</td>\n      <td>-870.1384</td>\n      <td>-918.7590</td>\n      <td>-863.3173</td>\n    </tr>\n  </tbody>\n</table>\n</div>"
     },
     "execution_count": 72,
     "metadata": {},
     "output_type": "execute_result"
    }
   ],
   "source": [
    "# Fetch time series for a set of variables\n",
    "model_data.filter(variable=['Emissions|CO2|AFOLU',\n",
    "                            'Emissions|CO2|Energy'], region='World').timeseries()"
   ]
  },
  {
   "cell_type": "code",
   "execution_count": 71,
   "outputs": [
    {
     "data": {
      "text/plain": "2005    33243.8917\n2010    37710.1220\n2015    40470.7982\n2020    43004.2468\n2025    32063.8497\n2030    21256.3517\n2035    15960.1234\n2040    11740.8804\n2045     8268.0213\n2050     6229.0123\n2055     4942.5081\n2060     4117.5962\n2070     3304.1254\n2080     2845.4481\n2090     2685.5141\n2100     2631.5923\ndtype: float64"
     },
     "execution_count": 71,
     "metadata": {},
     "output_type": "execute_result"
    }
   ],
   "source": [
    "# This needs verification, but this is possibly a way to calculate the gross emissions excluding CDR contributions to the annual emissions.\n",
    "# Numbers are in the same ballpark as those used in the State of CDR (https://www.stateofcdr.org/resources) Figues on page 9 and 10 of the summary.\n",
    "neg_emissions = model_data.filter(\n",
    "    variable=[\n",
    "        'Carbon Sequestration|CCS',\n",
    "        'Carbon Sequestration|Direct Air Capture',\n",
    "        'Carbon Sequestration|Enhanced Weathering',\n",
    "        'Carbon Sequestration|Land Use'\n",
    "    ],\n",
    "    region='World').timeseries().sum()\n",
    "net_emissions = model_data.filter(variable=['Emissions|CO2'], region='World').timeseries().sum()\n",
    "gross_emissions = net_emissions + neg_emissions\n",
    "gross_emissions"
   ],
   "metadata": {
    "collapsed": false,
    "ExecuteTime": {
     "end_time": "2023-05-30T17:35:31.458150383Z",
     "start_time": "2023-05-30T17:35:31.397427738Z"
    }
   }
  },
  {
   "cell_type": "code",
   "execution_count": null,
   "outputs": [],
   "source": [],
   "metadata": {
    "collapsed": false
   }
  }
 ],
 "metadata": {
  "kernelspec": {
   "name": "python3",
   "language": "python",
   "display_name": "Python 3 (ipykernel)"
  },
  "language_info": {
   "codemirror_mode": {
    "name": "ipython",
    "version": 3
   },
   "file_extension": ".py",
   "mimetype": "text/x-python",
   "name": "python",
   "nbconvert_exporter": "python",
   "pygments_lexer": "ipython3",
   "version": "3.10.2"
  }
 },
 "nbformat": 4,
 "nbformat_minor": 5
}
